{
  "nbformat": 4,
  "nbformat_minor": 0,
  "metadata": {
    "colab": {
      "provenance": [],
      "toc_visible": true,
      "authorship_tag": "ABX9TyPbA3wM1fnOIUAWHFbp/8j8",
      "include_colab_link": true
    },
    "kernelspec": {
      "name": "python3",
      "display_name": "Python 3"
    },
    "language_info": {
      "name": "python"
    }
  },
  "cells": [
    {
      "cell_type": "markdown",
      "metadata": {
        "id": "view-in-github",
        "colab_type": "text"
      },
      "source": [
        "<a href=\"https://colab.research.google.com/github/simplifique-treinamentos/notebooks-python/blob/main/Classes_e_Objetos.ipynb\" target=\"_parent\"><img src=\"https://colab.research.google.com/assets/colab-badge.svg\" alt=\"Open In Colab\"/></a>"
      ]
    },
    {
      "cell_type": "markdown",
      "source": [
        "#Intro a Classes e Objetos"
      ],
      "metadata": {
        "id": "xfzXU45u4MW1"
      }
    },
    {
      "cell_type": "markdown",
      "source": [
        "#1) Definindo Classes"
      ],
      "metadata": {
        "id": "0dpHcTLO4QFg"
      }
    },
    {
      "cell_type": "markdown",
      "source": [
        "**Motivação:** Definir variáveis e ações comuns a uma mesma estrutura (ex: Funcionário, Veículo, Conta, etc.)"
      ],
      "metadata": {
        "id": "7RB7boDb4Uwu"
      }
    },
    {
      "cell_type": "code",
      "source": [
        "nome_func1 = 'José da Silva'\n",
        "email_func1 = 'josesilva@minhaempresa.com'\n",
        "\n",
        "nome_func2 = 'Maria da Silva'\n",
        "email_func2 = 'mariasilva@minhaempresa.com'"
      ],
      "metadata": {
        "id": "afkEayIG3tL7"
      },
      "execution_count": 2,
      "outputs": []
    },
    {
      "cell_type": "markdown",
      "source": [
        "Se eu precisasse adicionar o **telefone** do funcionario, teria que criar uma variável nova para cada funcionário..."
      ],
      "metadata": {
        "id": "CTKJVTMm4XuK"
      }
    },
    {
      "cell_type": "code",
      "source": [
        "nome_func1 = 'José da Silva'\n",
        "email_func1 = 'josesilva@minhaempresa.com'\n",
        "tel_func1 = '(11)12345-1234'\n",
        "\n",
        "nome_func2 = 'Maria da Silva'\n",
        "email_func2 = 'mariasilva@minhaempresa.com'\n",
        "tel_func2 = '(11)54321-4321'"
      ],
      "metadata": {
        "id": "r1_ykEgU4wTK"
      },
      "execution_count": 4,
      "outputs": []
    },
    {
      "cell_type": "markdown",
      "source": [
        "Ao invés disso, **agrupamos dados** comuns a um funcionário em uma estrutura chamada **Classe**"
      ],
      "metadata": {
        "id": "TRJcdhLk4XQy"
      }
    },
    {
      "cell_type": "markdown",
      "source": [
        "##1.1) Classe simples"
      ],
      "metadata": {
        "id": "7cEdk3Lp3tFO"
      }
    },
    {
      "cell_type": "code",
      "source": [
        "class Funcionario:\n",
        "  pass"
      ],
      "metadata": {
        "id": "XEAPz7t6xblE"
      },
      "execution_count": 8,
      "outputs": []
    },
    {
      "cell_type": "code",
      "source": [
        "func1 = Funcionario()\n",
        "print(type(func1))"
      ],
      "metadata": {
        "colab": {
          "base_uri": "https://localhost:8080/"
        },
        "id": "YQZQ7Byx51Ec",
        "outputId": "abb77b17-b838-4285-c961-3e244c1ee179"
      },
      "execution_count": 9,
      "outputs": [
        {
          "output_type": "stream",
          "name": "stdout",
          "text": [
            "<class '__main__.Funcionario'>\n"
          ]
        }
      ]
    },
    {
      "cell_type": "markdown",
      "source": [
        "Esta classe não executa nenhuma ação, apenas demonstra que a variável nova criada (**func1**) **pertence** à **classe Funcionario**"
      ],
      "metadata": {
        "id": "6lqjXDcIRm-I"
      }
    },
    {
      "cell_type": "markdown",
      "source": [
        "##1.2) Classe com variável de classe\n",
        "A variável de classe determina que o valor será o mesmo para todos os objetos criados pela classe"
      ],
      "metadata": {
        "id": "HFpxD-XC5FNq"
      }
    },
    {
      "cell_type": "code",
      "source": [
        "class Funcionario:\n",
        "  empresa = 'Minha Empresa'"
      ],
      "metadata": {
        "id": "DGMr6rC2uh4U"
      },
      "execution_count": 10,
      "outputs": []
    },
    {
      "cell_type": "code",
      "source": [
        "func1 = Funcionario()\n",
        "print(func1.empresa)"
      ],
      "metadata": {
        "colab": {
          "base_uri": "https://localhost:8080/"
        },
        "id": "xFueXPAm2mqV",
        "outputId": "b77b6dfe-e413-46d9-995f-3f4bea163322"
      },
      "execution_count": 11,
      "outputs": [
        {
          "output_type": "stream",
          "name": "stdout",
          "text": [
            "Minha Empresa\n"
          ]
        }
      ]
    },
    {
      "cell_type": "code",
      "source": [
        "func2 = Funcionario()\n",
        "print(func2.empresa)"
      ],
      "metadata": {
        "colab": {
          "base_uri": "https://localhost:8080/"
        },
        "id": "yvjNJfeNR9aR",
        "outputId": "1126654f-c178-43f7-8f6b-f9bd68f80337"
      },
      "execution_count": 12,
      "outputs": [
        {
          "output_type": "stream",
          "name": "stdout",
          "text": [
            "Minha Empresa\n"
          ]
        }
      ]
    },
    {
      "cell_type": "markdown",
      "source": [
        "##1.3) Construtor\n",
        "No momento da criação da entidade Funcionario, podemos passar o nome e o email do funcionario. Isto é feito usando o método __init__() chamado de **construtor**, pois é utilizado somente uma única vez na criação dos objetos"
      ],
      "metadata": {
        "id": "tVWCRxCI5aMK"
      }
    },
    {
      "cell_type": "code",
      "source": [
        "class Funcionario:\n",
        "  empresa = 'Minha Empresa'\n",
        "\n",
        "  def __init__(self, nome, email):\n",
        "    self.nome = nome\n",
        "    self.email = email"
      ],
      "metadata": {
        "id": "uXcyHrJsz7si"
      },
      "execution_count": 13,
      "outputs": []
    },
    {
      "cell_type": "code",
      "source": [
        "func1 = Funcionario('José da Silva', 'josesilva@minhaempresa.com')\n",
        "func2 = Funcionario('Maria da Silva', 'mariasilva@minhaempresa.com')\n",
        "\n",
        "lista_funcionarios = []\n",
        "lista_funcionarios.append(func1)\n",
        "lista_funcionarios.append(func2)\n",
        "\n",
        "for funcionario in lista_funcionarios:\n",
        "  print('Funcionario\\n')\n",
        "  print(funcionario.empresa)\n",
        "  print(funcionario.nome)\n",
        "  print(funcionario.email)\n",
        "  print('\\n-----------')"
      ],
      "metadata": {
        "colab": {
          "base_uri": "https://localhost:8080/"
        },
        "id": "GnRioe0gxept",
        "outputId": "266bda2e-d363-4099-e13e-d63488082d6b"
      },
      "execution_count": 14,
      "outputs": [
        {
          "output_type": "stream",
          "name": "stdout",
          "text": [
            "Funcionario\n",
            "\n",
            "Minha Empresa\n",
            "José da Silva\n",
            "josesilva@minhaempresa.com\n",
            "\n",
            "-----------\n",
            "Funcionario\n",
            "\n",
            "Minha Empresa\n",
            "Maria da Silva\n",
            "mariasilva@minhaempresa.com\n",
            "\n",
            "-----------\n"
          ]
        }
      ]
    },
    {
      "cell_type": "markdown",
      "source": [
        "##1.4) Métodos\n",
        "Métodos são as ações que o objeto terá quando for construído (instanciado)"
      ],
      "metadata": {
        "id": "1NM-fnt93ooB"
      }
    },
    {
      "cell_type": "code",
      "source": [
        "class Cachorro:\n",
        "  raca = 'vira-lata'\n",
        "\n",
        "  def __init__(self, nome):\n",
        "    self.nome = nome\n",
        "\n",
        "  def latir(self):\n",
        "    print(f'au au - {self.nome} está latindo!')"
      ],
      "metadata": {
        "id": "b37m9a7T3okf"
      },
      "execution_count": 15,
      "outputs": []
    },
    {
      "cell_type": "code",
      "source": [
        "cachorro1 = Cachorro('Tobi')\n",
        "cachorro2 = Cachorro('Lucy')\n",
        "\n",
        "cachorro2.latir()"
      ],
      "metadata": {
        "colab": {
          "base_uri": "https://localhost:8080/"
        },
        "id": "QASVucXl9lOt",
        "outputId": "2d314cab-0754-4156-a4ba-71beaadd2ccd"
      },
      "execution_count": 16,
      "outputs": [
        {
          "output_type": "stream",
          "name": "stdout",
          "text": [
            "au au - Lucy está latindo!\n"
          ]
        }
      ]
    },
    {
      "cell_type": "markdown",
      "source": [
        "As variáveis cachorro1 e cachorro2 são criações da classe Cachorro, que contém todas as variáveis pré-definicas na classe como nome e raça. \n",
        "<br/> \n",
        "Estas variáveis (cachorro1 e cachorro2) são chamadas de **objetos** ou **instâncias** da class **Cachorro**, pois são **criações** da classe Cachorro que já vão ter as variáveis nome e raça quando criadas."
      ],
      "metadata": {
        "id": "UvSY-7_c9o0s"
      }
    },
    {
      "cell_type": "markdown",
      "source": [
        "##1.5) Objetos\n",
        "Objetos ou **instâncias** são construções da classe. <br/>\n",
        "Com eles podemos executar as ações pré-definidas na classe"
      ],
      "metadata": {
        "id": "NQkq4lx777kU"
      }
    },
    {
      "cell_type": "code",
      "source": [
        "cachorro1 = Cachorro('Tobi')\n",
        "cachorro2 = Cachorro('Lucy')\n",
        "\n",
        "cachorro2.latir()"
      ],
      "metadata": {
        "colab": {
          "base_uri": "https://localhost:8080/"
        },
        "id": "_fwe_NRy3ogU",
        "outputId": "e24189f6-ed6b-4ad9-c438-1d140f6a8980"
      },
      "execution_count": 18,
      "outputs": [
        {
          "output_type": "stream",
          "name": "stdout",
          "text": [
            "au au - Lucy está latindo!\n"
          ]
        }
      ]
    },
    {
      "cell_type": "markdown",
      "source": [
        "##1.6)Método __str__\n",
        "O método __str__ retorna uma representação textual legível por humanos da classe"
      ],
      "metadata": {
        "id": "C7UyY7Dj3oZ4"
      }
    },
    {
      "cell_type": "code",
      "source": [
        "print(cachorro2)"
      ],
      "metadata": {
        "colab": {
          "base_uri": "https://localhost:8080/"
        },
        "id": "zKHcfHYu3oVQ",
        "outputId": "e626a361-f0ae-458d-e5d9-ae17f9d3e809"
      },
      "execution_count": 19,
      "outputs": [
        {
          "output_type": "stream",
          "name": "stdout",
          "text": [
            "<__main__.Cachorro object at 0x7f0cfc5a5490>\n"
          ]
        }
      ]
    },
    {
      "cell_type": "code",
      "source": [
        "class Cachorro:\n",
        "  raca = 'vira-lata'\n",
        "\n",
        "  def __init__(self, nome):\n",
        "    self.nome = nome\n",
        "\n",
        "  def latir(self):\n",
        "    print(f'au au - {self.nome} está latindo!')\n",
        "\n",
        "  def __str__(self):\n",
        "    return f\"raça: {self.raca}, nome: {self.nome}\""
      ],
      "metadata": {
        "id": "ZJyXJI4V9JVc"
      },
      "execution_count": 20,
      "outputs": []
    },
    {
      "cell_type": "code",
      "source": [
        "cachorro1 = Cachorro('Tobi')\n",
        "cachorro2 = Cachorro('Lucy')\n",
        "\n",
        "print(cachorro2)"
      ],
      "metadata": {
        "colab": {
          "base_uri": "https://localhost:8080/"
        },
        "id": "lPtKJNNa9JPq",
        "outputId": "8f1de8c5-69c0-4a62-977a-40f1c133e875"
      },
      "execution_count": 21,
      "outputs": [
        {
          "output_type": "stream",
          "name": "stdout",
          "text": [
            "raça: vira-lata, nome: Lucy\n"
          ]
        }
      ]
    },
    {
      "cell_type": "markdown",
      "source": [
        "#Outro exemplo - Classe Carro"
      ],
      "metadata": {
        "id": "DMLMwdGJ9JIV"
      }
    },
    {
      "cell_type": "code",
      "source": [
        "class Carro:\n",
        "  marca = 'Ford'\n",
        "\n",
        "  def __init__(self, cor):\n",
        "    self.cor = cor;\n",
        "    self.velocidade = 0\n",
        "\n",
        "  #Métodos - Ações que objeto ira tér\n",
        "  def acelerar(self, novaVelocidade):\n",
        "    self.velocidade += novaVelocidade\n",
        "\n",
        "  def __str__(self):\n",
        "    return f\"marca: {self.marca} - cor: {self.cor} - velocidade: {self.velocidade}\""
      ],
      "metadata": {
        "id": "nj92pMnCxzro"
      },
      "execution_count": 22,
      "outputs": []
    },
    {
      "cell_type": "markdown",
      "source": [
        "Intancio um carro principal"
      ],
      "metadata": {
        "id": "6knnpqZQ-gk7"
      }
    },
    {
      "cell_type": "code",
      "source": [
        "carroPrincipal = Carro('Preto')\n",
        "print(carroPrincipal)\n",
        "\n",
        "carroPrincipal.acelerar(20)\n",
        "print(carroPrincipal.velocidade)"
      ],
      "metadata": {
        "colab": {
          "base_uri": "https://localhost:8080/"
        },
        "id": "59-o7nJvywmy",
        "outputId": "37eccca1-f887-48eb-9dd2-0b787903762e"
      },
      "execution_count": 24,
      "outputs": [
        {
          "output_type": "stream",
          "name": "stdout",
          "text": [
            "marca: Ford - cor: Preto - velocidade: 0\n",
            "20\n"
          ]
        }
      ]
    },
    {
      "cell_type": "markdown",
      "source": [
        "Instancio um carro reserva"
      ],
      "metadata": {
        "id": "Qt1Ypj_lrf-T"
      }
    },
    {
      "cell_type": "code",
      "source": [
        "carroReserva = Carro('Branco')\n",
        "print(carroReserva)\n",
        "\n",
        "carroReserva.acelerar(50)\n",
        "print(carroReserva.velocidade)"
      ],
      "metadata": {
        "colab": {
          "base_uri": "https://localhost:8080/"
        },
        "id": "wcabrPbITAms",
        "outputId": "c89753f3-db26-40f8-fb8e-63d6c5112ed9"
      },
      "execution_count": 26,
      "outputs": [
        {
          "output_type": "stream",
          "name": "stdout",
          "text": [
            "marca: Ford - cor: Branco - velocidade: 0\n",
            "50\n"
          ]
        }
      ]
    },
    {
      "cell_type": "markdown",
      "source": [
        "#Conceitos não abordados: Herança e Polimorfismo\n",
        "\n"
      ],
      "metadata": {
        "id": "88ab8pSNTFQE"
      }
    },
    {
      "cell_type": "markdown",
      "source": [
        "Abordaremos estes conceitos mais adiante! Aguardem... =D"
      ],
      "metadata": {
        "id": "qV88sU9kTSwp"
      }
    },
    {
      "cell_type": "code",
      "source": [],
      "metadata": {
        "id": "89kwQeQaTYiv"
      },
      "execution_count": null,
      "outputs": []
    }
  ]
}