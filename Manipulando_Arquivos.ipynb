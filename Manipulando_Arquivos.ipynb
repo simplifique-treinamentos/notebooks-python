{
  "nbformat": 4,
  "nbformat_minor": 0,
  "metadata": {
    "colab": {
      "provenance": [],
      "toc_visible": true,
      "authorship_tag": "ABX9TyPbZwgzbs2jNbSdJPXEl3Td",
      "include_colab_link": true
    },
    "kernelspec": {
      "name": "python3",
      "display_name": "Python 3"
    },
    "language_info": {
      "name": "python"
    }
  },
  "cells": [
    {
      "cell_type": "markdown",
      "metadata": {
        "id": "view-in-github",
        "colab_type": "text"
      },
      "source": [
        "<a href=\"https://colab.research.google.com/github/simplifique-treinamentos/notebooks-python/blob/main/Manipulando_Arquivos.ipynb\" target=\"_parent\"><img src=\"https://colab.research.google.com/assets/colab-badge.svg\" alt=\"Open In Colab\"/></a>"
      ]
    },
    {
      "cell_type": "markdown",
      "source": [
        "# Manipulação de Arquivos"
      ],
      "metadata": {
        "id": "RvtN48tV_kIA"
      }
    },
    {
      "cell_type": "markdown",
      "source": [
        "**Modos de abertura de um arquivo**\n",
        "\n",
        "*   **r (padrão)** - Abre o arquivo para leitura. Se não existir gera um erro \n",
        "*   a - Abre o arquivo em modo *append* (apensar). Se não existir cria o arquivo\n",
        "*   w - Abre o arquivo para escrita. Se não existir cria o arquivo\n",
        "*   x - Cria um arquivo. Se não existir gera um erro\n",
        "\n",
        "**Tipo de arquivo**\n",
        "*   **t (padrão)** - Trata o arquivo como texto\n",
        "*   b - Trata o arquivo como binário (ex: imagem)\n",
        "\n",
        "Referências: <br/>\n",
        "https://docs.python.org/3/library/io.html <br/>\n",
        "https://www.w3schools.com/python/python_file_handling.asp <br/>\n",
        "https://www.freecodecamp.org/news/file-handling-in-python/\n"
      ],
      "metadata": {
        "id": "1lA6NyPaJ-J9"
      }
    },
    {
      "cell_type": "markdown",
      "source": [
        "# 1) Criar arquivos"
      ],
      "metadata": {
        "id": "jgAb3C2m_nq0"
      }
    },
    {
      "cell_type": "markdown",
      "source": [
        "##1.1) Modo de criação exclusiva (x)"
      ],
      "metadata": {
        "id": "lopPS85X-vNR"
      }
    },
    {
      "cell_type": "code",
      "source": [
        "#Tento criar um arquivo\n",
        "arquivo = open(\"exemplo.txt\",\"x\")\n",
        "arquivo.close()\n",
        "\n",
        "print(\"arquivo criado!\")"
      ],
      "metadata": {
        "id": "DbKC3QwTNAIl",
        "colab": {
          "base_uri": "https://localhost:8080/"
        },
        "outputId": "5f9257b9-5887-44ac-eae7-8d0ad08cd748"
      },
      "execution_count": 1,
      "outputs": [
        {
          "output_type": "stream",
          "name": "stdout",
          "text": [
            "arquivo criado!\n"
          ]
        }
      ]
    },
    {
      "cell_type": "markdown",
      "source": [
        "### 1.1.1) Exemplo de erro na abertura"
      ],
      "metadata": {
        "id": "prZ0mbKuMhwM"
      }
    },
    {
      "cell_type": "markdown",
      "source": [
        "Tentar abrir o mesmo arquivo que já existe em modo de escrita...\n"
      ],
      "metadata": {
        "id": "AN-ctSwSW7ol"
      }
    },
    {
      "cell_type": "code",
      "source": [
        "#Cria um arquivo\n",
        "arquivo = open(\"exemplo.txt\",\"x\")\n",
        "arquivo.write(\"teste de gravação no colab\")\n",
        "print(\"arquivo criado!\")"
      ],
      "metadata": {
        "colab": {
          "base_uri": "https://localhost:8080/",
          "height": 217
        },
        "id": "0VPe1eOGJxK9",
        "outputId": "c79767ae-8b83-440c-fb71-05207ecac57a"
      },
      "execution_count": 2,
      "outputs": [
        {
          "output_type": "error",
          "ename": "FileExistsError",
          "evalue": "ignored",
          "traceback": [
            "\u001b[0;31m---------------------------------------------------------------------------\u001b[0m",
            "\u001b[0;31mFileExistsError\u001b[0m                           Traceback (most recent call last)",
            "\u001b[0;32m<ipython-input-2-43e3f861e0d9>\u001b[0m in \u001b[0;36m<module>\u001b[0;34m\u001b[0m\n\u001b[1;32m      1\u001b[0m \u001b[0;31m#Cria um arquivo\u001b[0m\u001b[0;34m\u001b[0m\u001b[0;34m\u001b[0m\u001b[0;34m\u001b[0m\u001b[0m\n\u001b[0;32m----> 2\u001b[0;31m \u001b[0marquivo\u001b[0m \u001b[0;34m=\u001b[0m \u001b[0mopen\u001b[0m\u001b[0;34m(\u001b[0m\u001b[0;34m\"exemplo.txt\"\u001b[0m\u001b[0;34m,\u001b[0m\u001b[0;34m\"x\"\u001b[0m\u001b[0;34m)\u001b[0m\u001b[0;34m\u001b[0m\u001b[0;34m\u001b[0m\u001b[0m\n\u001b[0m\u001b[1;32m      3\u001b[0m \u001b[0marquivo\u001b[0m\u001b[0;34m.\u001b[0m\u001b[0mwrite\u001b[0m\u001b[0;34m(\u001b[0m\u001b[0;34m\"teste de gravação no colab\"\u001b[0m\u001b[0;34m)\u001b[0m\u001b[0;34m\u001b[0m\u001b[0;34m\u001b[0m\u001b[0m\n\u001b[1;32m      4\u001b[0m \u001b[0mprint\u001b[0m\u001b[0;34m(\u001b[0m\u001b[0;34m\"arquivo criado!\"\u001b[0m\u001b[0;34m)\u001b[0m\u001b[0;34m\u001b[0m\u001b[0;34m\u001b[0m\u001b[0m\n",
            "\u001b[0;31mFileExistsError\u001b[0m: [Errno 17] File exists: 'exemplo.txt'"
          ]
        }
      ]
    },
    {
      "cell_type": "markdown",
      "source": [
        "### 1.1.2) Tratando o erro com try..except"
      ],
      "metadata": {
        "id": "gqD_wG4vMqqb"
      }
    },
    {
      "cell_type": "markdown",
      "source": [
        "Posso melhorar isso, com try..except =D"
      ],
      "metadata": {
        "id": "mTJPTgbvL0Ic"
      }
    },
    {
      "cell_type": "code",
      "source": [
        "try:\n",
        "  arquivo = open(\"exemplo.txt\",\"x\")\n",
        "  print(\"arquivo criado!\")\n",
        "except FileExistsError:\n",
        "  print(\"arquivo já existe\")\n",
        "finally:\n",
        "  arquivo.close()"
      ],
      "metadata": {
        "colab": {
          "base_uri": "https://localhost:8080/"
        },
        "id": "deYns76hL3TO",
        "outputId": "cd59ec1b-4b2c-45ed-a2b8-f0e21a355b59"
      },
      "execution_count": 3,
      "outputs": [
        {
          "output_type": "stream",
          "name": "stdout",
          "text": [
            "arquivo já existe\n"
          ]
        }
      ]
    },
    {
      "cell_type": "markdown",
      "source": [
        "##1.2) Modo de escrita (w)"
      ],
      "metadata": {
        "id": "3R3geR_i-8P3"
      }
    },
    {
      "cell_type": "markdown",
      "source": [
        "Abro o arquivo e gravo uma linha <br/> \n",
        "**Obs:** Substitui todo o conteúdo existente"
      ],
      "metadata": {
        "id": "aVdnQ7tTXM35"
      }
    },
    {
      "cell_type": "code",
      "source": [
        "arquivo = open(\"exemplo.txt\",\"w\")\n",
        "arquivo.write(\"nomes,cidade\\n\")\n",
        "arquivo.close()"
      ],
      "metadata": {
        "id": "bfGndgl6XOi-"
      },
      "execution_count": 4,
      "outputs": []
    },
    {
      "cell_type": "markdown",
      "source": [
        "Leio o arquivo"
      ],
      "metadata": {
        "id": "eLiQmqOUX14s"
      }
    },
    {
      "cell_type": "code",
      "source": [
        "arquivo = open(\"exemplo.txt\",\"r\")\n",
        "arquivo.read()"
      ],
      "metadata": {
        "colab": {
          "base_uri": "https://localhost:8080/",
          "height": 36
        },
        "id": "Rmm-ZXNoX8zd",
        "outputId": "d16b9d2f-ce3f-4c49-8053-de4c85e8c1a1"
      },
      "execution_count": 5,
      "outputs": [
        {
          "output_type": "execute_result",
          "data": {
            "text/plain": [
              "'nomes,cidade\\n'"
            ],
            "application/vnd.google.colaboratory.intrinsic+json": {
              "type": "string"
            }
          },
          "metadata": {},
          "execution_count": 5
        }
      ]
    },
    {
      "cell_type": "code",
      "source": [
        "arquivo.close()"
      ],
      "metadata": {
        "id": "zSPPdlcXYL7u"
      },
      "execution_count": 6,
      "outputs": []
    },
    {
      "cell_type": "markdown",
      "source": [
        "Ler o arquivo e armazenar o conteúdo em uma variável\n",
        "> uso a cláusula **with** para fechar automaticamente o arquivo"
      ],
      "metadata": {
        "id": "vN1U-Ysg8V2s"
      }
    },
    {
      "cell_type": "code",
      "source": [
        "with open(\"exemplo.txt\",\"r\") as arquivo:\n",
        "  conteudo = arquivo.read()\n",
        "\n",
        "print(conteudo)"
      ],
      "metadata": {
        "colab": {
          "base_uri": "https://localhost:8080/"
        },
        "id": "4on7qLn58Vtl",
        "outputId": "d6d7deed-f11b-4ab2-e71c-ce64bf0e92c1"
      },
      "execution_count": 7,
      "outputs": [
        {
          "output_type": "stream",
          "name": "stdout",
          "text": [
            "nomes,cidade\n",
            "\n"
          ]
        }
      ]
    },
    {
      "cell_type": "markdown",
      "source": [
        "Note que não precisei fechar o arquivo (arquivo.close())"
      ],
      "metadata": {
        "id": "EPMTJe9hGkCm"
      }
    },
    {
      "cell_type": "markdown",
      "source": [
        "## 1.3) Modo de apensar (a - append)\n",
        "Modo que permite adicionar mais linhas ao invés de substituir"
      ],
      "metadata": {
        "id": "vhcEtXgD_o1e"
      }
    },
    {
      "cell_type": "code",
      "source": [
        "with open(\"exemplo.txt\",\"a\") as arquivo:\n",
        "  arquivo.write(\"João da Silva,São Paulo\\n\")"
      ],
      "metadata": {
        "id": "1-L4K1u-ahys"
      },
      "execution_count": 8,
      "outputs": []
    },
    {
      "cell_type": "code",
      "source": [
        "with open(\"exemplo.txt\",\"a\") as arquivo:\n",
        "  arquivo.write(\"Maria José,Belo Horizonte\\n\")  "
      ],
      "metadata": {
        "id": "1wdNmku--BMO"
      },
      "execution_count": 9,
      "outputs": []
    },
    {
      "cell_type": "code",
      "source": [
        "with open(\"exemplo.txt\",\"a\") as arquivo:\n",
        "  arquivo.write(\"Maria José,Belo Horizonte\\n\")"
      ],
      "metadata": {
        "id": "HB9liAyhPU8u"
      },
      "execution_count": 10,
      "outputs": []
    },
    {
      "cell_type": "code",
      "source": [
        "with open(\"exemplo.txt\",\"r\") as arquivo:\n",
        "  conteudo = arquivo.read()\n",
        "\n",
        "print(conteudo)"
      ],
      "metadata": {
        "id": "BYbLzGIda_47",
        "outputId": "726bf144-a295-482d-d114-bba51c818297",
        "colab": {
          "base_uri": "https://localhost:8080/"
        }
      },
      "execution_count": 11,
      "outputs": [
        {
          "output_type": "stream",
          "name": "stdout",
          "text": [
            "nomes,cidade\n",
            "João da Silva,São Paulo\n",
            "Maria José,Belo Horizonte\n",
            "Maria José,Belo Horizonte\n",
            "\n"
          ]
        }
      ]
    },
    {
      "cell_type": "markdown",
      "source": [
        "# 2) Ler arquivos"
      ],
      "metadata": {
        "id": "NcCqGp9s_1GF"
      }
    },
    {
      "cell_type": "markdown",
      "source": [
        "##2.1) Leitura padrão - método read()"
      ],
      "metadata": {
        "id": "7eucnKcACGrN"
      }
    },
    {
      "cell_type": "code",
      "source": [
        "#Modo padrão - pode-se omitir o parâmetro rt\n",
        "with open(\"exemplo.txt\") as arquivo:\n",
        "  conteudo = arquivo.read()\n",
        "\n",
        "print(conteudo)"
      ],
      "metadata": {
        "colab": {
          "base_uri": "https://localhost:8080/"
        },
        "id": "rh6NiuX6OzXJ",
        "outputId": "abbb2f03-ae38-4945-919e-ab7c766001e8"
      },
      "execution_count": 13,
      "outputs": [
        {
          "output_type": "stream",
          "name": "stdout",
          "text": [
            "nomes,cidade\n",
            "João da Silva,São Paulo\n",
            "Maria José,Belo Horizonte\n",
            "Maria José,Belo Horizonte\n",
            "\n"
          ]
        }
      ]
    },
    {
      "cell_type": "markdown",
      "source": [
        "Crio função de leitura"
      ],
      "metadata": {
        "id": "KNVQUI6EGyUe"
      }
    },
    {
      "cell_type": "code",
      "source": [
        "def ler():\n",
        "  #Modo padrão - pode-se omitir o parâmetro r e o t\n",
        "  with open(\"exemplo.txt\",\"rt\") as arquivo:\n",
        "    conteudo = arquivo.read()\n",
        "    print(conteudo)"
      ],
      "metadata": {
        "id": "9bzEzOng_te7"
      },
      "execution_count": 15,
      "outputs": []
    },
    {
      "cell_type": "code",
      "source": [
        "ler()"
      ],
      "metadata": {
        "colab": {
          "base_uri": "https://localhost:8080/"
        },
        "id": "MeSHfehVGDL6",
        "outputId": "61a8b148-1f74-4a54-96ec-c71d34195264"
      },
      "execution_count": 16,
      "outputs": [
        {
          "output_type": "stream",
          "name": "stdout",
          "text": [
            "nomes,cidade\n",
            "João da Silva,São Paulo\n",
            "Maria José,Belo Horizonte\n",
            "Maria José,Belo Horizonte\n",
            "\n"
          ]
        }
      ]
    },
    {
      "cell_type": "markdown",
      "source": [
        "## 2.2) Ler linha a linha - readline()"
      ],
      "metadata": {
        "id": "DRbXaDFwC7KP"
      }
    },
    {
      "cell_type": "code",
      "source": [
        "with open(\"exemplo.txt\",\"rt\") as arquivo:\n",
        "    #leio a primeira linha\n",
        "    conteudo = arquivo.readline()\n",
        "    print(conteudo)\n",
        "\n",
        "    #leio a segunda linha\n",
        "    conteudo = arquivo.readline()\n",
        "    print(conteudo)"
      ],
      "metadata": {
        "colab": {
          "base_uri": "https://localhost:8080/"
        },
        "id": "PP5Yr7cpDNRj",
        "outputId": "86658649-6b29-445a-f8dc-2cc90e6618c8"
      },
      "execution_count": 17,
      "outputs": [
        {
          "output_type": "stream",
          "name": "stdout",
          "text": [
            "nomes,cidade\n",
            "\n",
            "João da Silva,São Paulo\n",
            "\n"
          ]
        }
      ]
    },
    {
      "cell_type": "markdown",
      "source": [
        "### 2.2.1) Ler linha a linha e remover linhas em branco"
      ],
      "metadata": {
        "id": "w808y1eqDxBe"
      }
    },
    {
      "cell_type": "code",
      "source": [
        "with open(\"exemplo.txt\",\"rt\") as arquivo:\n",
        "    #leio a primeira linha\n",
        "    conteudo = arquivo.readline().strip()\n",
        "    print(conteudo)\n",
        "\n",
        "    #leio a segunda linha\n",
        "    conteudo = arquivo.readline().strip()\n",
        "    print(conteudo)"
      ],
      "metadata": {
        "colab": {
          "base_uri": "https://localhost:8080/"
        },
        "id": "UqgPGG5DD23I",
        "outputId": "531e0e2c-17ca-4365-e5cf-fd7e668857ba"
      },
      "execution_count": 18,
      "outputs": [
        {
          "output_type": "stream",
          "name": "stdout",
          "text": [
            "nomes,cidade\n",
            "João da Silva,São Paulo\n"
          ]
        }
      ]
    },
    {
      "cell_type": "markdown",
      "source": [
        "##2.3) Ler todas as linhas em uma lista - readlines"
      ],
      "metadata": {
        "id": "XB3MkfDLEck5"
      }
    },
    {
      "cell_type": "code",
      "source": [
        "with open(\"exemplo.txt\",\"rt\") as arquivo:\n",
        "    #leio a primeira linha\n",
        "    conteudo = arquivo.readlines()\n",
        "    print(conteudo)"
      ],
      "metadata": {
        "colab": {
          "base_uri": "https://localhost:8080/"
        },
        "id": "joVWtTZQEhq5",
        "outputId": "2ee35b6e-501f-4a1a-bf45-4bc11200a548"
      },
      "execution_count": 19,
      "outputs": [
        {
          "output_type": "stream",
          "name": "stdout",
          "text": [
            "['nomes,cidade\\n', 'João da Silva,São Paulo\\n', 'Maria José,Belo Horizonte\\n', 'Maria José,Belo Horizonte\\n']\n"
          ]
        }
      ]
    },
    {
      "cell_type": "code",
      "source": [
        "contador = 0\n",
        "\n",
        "for linha in conteudo:\n",
        "    contador += 1\n",
        "    print(\"Linha{}: {}\".format(contador, linha.strip()))"
      ],
      "metadata": {
        "colab": {
          "base_uri": "https://localhost:8080/"
        },
        "id": "SuZMiplME1a-",
        "outputId": "3cb8b081-e2a4-4009-d1af-5743476395d3"
      },
      "execution_count": 20,
      "outputs": [
        {
          "output_type": "stream",
          "name": "stdout",
          "text": [
            "Linha1: nomes,cidade\n",
            "Linha2: João da Silva,São Paulo\n",
            "Linha3: Maria José,Belo Horizonte\n",
            "Linha4: Maria José,Belo Horizonte\n"
          ]
        }
      ]
    },
    {
      "cell_type": "markdown",
      "source": [
        "#3) Extra: Criar um arquivo JSON (sem repetir nomes)\n"
      ],
      "metadata": {
        "id": "2BkxFg4DAyZW"
      }
    },
    {
      "cell_type": "markdown",
      "source": [
        "Criar lista de nomes"
      ],
      "metadata": {
        "id": "Q7Gl0gJ1OE_g"
      }
    },
    {
      "cell_type": "code",
      "source": [
        "lista_nomes = []\n",
        "\n",
        "with open(\"exemplo.txt\") as arquivo:\n",
        "  lista_linhas = arquivo.readlines() #Leio todas as linhas\n",
        "  for linha in lista_linhas:\n",
        "    lista_nomes.append(linha.strip())  #Removo a terminação de linha \\n\n",
        "\n",
        "lista_nomes"
      ],
      "metadata": {
        "colab": {
          "base_uri": "https://localhost:8080/"
        },
        "id": "1ZN9JjrmN0jM",
        "outputId": "527a0096-1317-43b7-9128-ad4f5f0061b4"
      },
      "execution_count": null,
      "outputs": [
        {
          "output_type": "execute_result",
          "data": {
            "text/plain": [
              "['nomes,cidade',\n",
              " 'João da Silva,São Paulo',\n",
              " 'Maria José,Belo Horizonte',\n",
              " 'Maria José,Belo Horizonte']"
            ]
          },
          "metadata": {},
          "execution_count": 24
        }
      ]
    },
    {
      "cell_type": "code",
      "source": [
        "#Removo o cabeçalho\n",
        "lista_nomes.remove(\"nomes,cidade\")\n",
        "lista_nomes"
      ],
      "metadata": {
        "colab": {
          "base_uri": "https://localhost:8080/"
        },
        "id": "bJVKULpaJEUG",
        "outputId": "526321ea-244a-4032-a898-2c70e2d1b2ae"
      },
      "execution_count": null,
      "outputs": [
        {
          "output_type": "execute_result",
          "data": {
            "text/plain": [
              "['João da Silva,São Paulo',\n",
              " 'Maria José,Belo Horizonte',\n",
              " 'Maria José,Belo Horizonte']"
            ]
          },
          "metadata": {},
          "execution_count": 26
        }
      ]
    },
    {
      "cell_type": "markdown",
      "source": [
        "Removo a duplicidade com a estrutura set"
      ],
      "metadata": {
        "id": "vmZbUTrEJrrV"
      }
    },
    {
      "cell_type": "code",
      "source": [
        "set_nomes = set(lista_nomes)\n",
        "set_nomes"
      ],
      "metadata": {
        "colab": {
          "base_uri": "https://localhost:8080/"
        },
        "id": "u6V4rX7rJvlD",
        "outputId": "29cec562-0e73-4f5b-9ab8-419794522915"
      },
      "execution_count": null,
      "outputs": [
        {
          "output_type": "execute_result",
          "data": {
            "text/plain": [
              "{'João da Silva,São Paulo', 'Maria José,Belo Horizonte'}"
            ]
          },
          "metadata": {},
          "execution_count": 27
        }
      ]
    },
    {
      "cell_type": "code",
      "source": [
        "lista_nomes_final = []\n",
        "\n",
        "for item in set_nomes:\n",
        "\n",
        "  #Separo nome de cidade\n",
        "  nome, cidade = item.split(',')\n",
        "\n",
        "  dic_nome = {}\n",
        "  dic_nome[\"nome\"] = nome\n",
        "  dic_nome[\"cidade\"] = cidade\n",
        "  lista_nomes_final.append(dic_nome)\n",
        "\n",
        "lista_nomes_final"
      ],
      "metadata": {
        "colab": {
          "base_uri": "https://localhost:8080/"
        },
        "id": "GtCAMfZNLyIF",
        "outputId": "e5ed3a0c-4a6d-48b1-bc71-a81612abb176"
      },
      "execution_count": null,
      "outputs": [
        {
          "output_type": "execute_result",
          "data": {
            "text/plain": [
              "[{'nome': 'Maria José', 'cidade': 'Belo Horizonte'},\n",
              " {'nome': 'João da Silva', 'cidade': 'São Paulo'}]"
            ]
          },
          "metadata": {},
          "execution_count": 28
        }
      ]
    },
    {
      "cell_type": "markdown",
      "source": [
        "##3.1) Gravar arquivo como json"
      ],
      "metadata": {
        "id": "4dT4DDOoON8H"
      }
    },
    {
      "cell_type": "code",
      "source": [
        "import json\n",
        "\n",
        "with open(\"usuarios.json\",\"w\") as json_file:\n",
        "    json.dump(lista_nomes_final, json_file, ensure_ascii=False)"
      ],
      "metadata": {
        "id": "hH4Xv4efFfIR"
      },
      "execution_count": null,
      "outputs": []
    },
    {
      "cell_type": "markdown",
      "source": [
        "## 3.2) Ler arquivo JSON"
      ],
      "metadata": {
        "id": "zYqSFAb-CRf4"
      }
    },
    {
      "cell_type": "code",
      "source": [
        "with open(\"usuarios.json\") as json_file:\n",
        "    arquivo_json = json.load(json_file)\n",
        "    print(arquivo_json)"
      ],
      "metadata": {
        "colab": {
          "base_uri": "https://localhost:8080/"
        },
        "id": "qaXm6k6Bgtd7",
        "outputId": "2b7a8ae5-3bb8-4993-cf99-dec44ae6eb97"
      },
      "execution_count": null,
      "outputs": [
        {
          "output_type": "stream",
          "name": "stdout",
          "text": [
            "[{'nome': 'Maria José', 'cidade': 'Belo Horizonte'}, {'nome': 'João da Silva', 'cidade': 'São Paulo'}]\n"
          ]
        }
      ]
    },
    {
      "cell_type": "code",
      "source": [],
      "metadata": {
        "id": "271yGF5BJgR4"
      },
      "execution_count": null,
      "outputs": []
    }
  ]
}